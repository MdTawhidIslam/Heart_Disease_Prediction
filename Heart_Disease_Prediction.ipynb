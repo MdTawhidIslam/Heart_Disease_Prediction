{
 "cells": [
  {
   "cell_type": "markdown",
   "id": "ca5ce337",
   "metadata": {},
   "source": [
    "#  Heart_Disease_Prediction\n",
    "\n",
    "<br>Md. Tawhidul Islam Bhuiyan\n",
    "<br>Bsc 4th year, Rajshahi University of Engineering & Technology.\n",
    "\n",
    "Dataset Source: https://archive.ics.uci.edu/ml/datasets/heart+disease\n",
    "\n",
    "1. Load the dataset\n",
    "2. Explain the features and target variable\n",
    "3. Deal with the missing values\n",
    "4. Perform One-hot Encoding\n",
    "5. Split the dataset into 80% training and 20% for testing. Add random state and stratification\n",
    "6. Perform the training with Decision Tree Classifier\n",
    "7. Show a tree diagram of the Decision Tree\n",
    "8. Show the Confusion Matrix, Classification report, and ROC-AUC\n",
    "9. Explain your outcome."
   ]
  },
  {
   "cell_type": "markdown",
   "id": "7574758e",
   "metadata": {},
   "source": [
    "# import required libraries and packages"
   ]
  },
  {
   "cell_type": "code",
   "execution_count": 3,
   "id": "f6c10790",
   "metadata": {},
   "outputs": [],
   "source": [
    "import pandas as pd\n",
    "import numpy as np\n",
    "from sklearn.metrics import r2_score, mean_absolute_error, mean_squared_error\n",
    "from sklearn.model_selection import train_test_split\n",
    "from sklearn.tree import DecisionTreeClassifier\n",
    "from sklearn.tree import plot_tree\n",
    "from sklearn.metrics import accuracy_score, classification_report, confusion_matrix\n",
    "from sklearn.metrics import roc_curve, roc_auc_score, precision_score, recall_score, f1_score\n",
    "from sklearn.metrics import plot_confusion_matrix\n",
    "\n",
    "\n",
    "from sklearn.metrics import accuracy_score, classification_report, confusion_matrix\n",
    "from sklearn.metrics import roc_curve, roc_auc_score, precision_score, recall_score, f1_score\n",
    "\n",
    "import matplotlib.pyplot as plt\n",
    "import seaborn as sns\n",
    "\n",
    "import matplotlib.pyplot as plt\n",
    "import seaborn as sns\n",
    "\n",
    "# to remove unnecessary warnings\n",
    "import warnings\n",
    "\n",
    "warnings.filterwarnings('ignore')\n",
    "\n",
    "# to generate clear images\n",
    "sns.set_context('talk')\n",
    "\n",
    "\n",
    "\n"
   ]
  },
  {
   "cell_type": "markdown",
   "id": "e916f5fa",
   "metadata": {},
   "source": [
    "# import the data"
   ]
  },
  {
   "cell_type": "code",
   "execution_count": 4,
   "id": "dfacddc1",
   "metadata": {},
   "outputs": [
    {
     "data": {
      "text/html": [
       "<div>\n",
       "<style scoped>\n",
       "    .dataframe tbody tr th:only-of-type {\n",
       "        vertical-align: middle;\n",
       "    }\n",
       "\n",
       "    .dataframe tbody tr th {\n",
       "        vertical-align: top;\n",
       "    }\n",
       "\n",
       "    .dataframe thead th {\n",
       "        text-align: right;\n",
       "    }\n",
       "</style>\n",
       "<table border=\"1\" class=\"dataframe\">\n",
       "  <thead>\n",
       "    <tr style=\"text-align: right;\">\n",
       "      <th></th>\n",
       "      <th>0</th>\n",
       "      <th>1</th>\n",
       "      <th>2</th>\n",
       "      <th>3</th>\n",
       "      <th>4</th>\n",
       "      <th>5</th>\n",
       "      <th>6</th>\n",
       "      <th>7</th>\n",
       "      <th>8</th>\n",
       "      <th>9</th>\n",
       "      <th>10</th>\n",
       "      <th>11</th>\n",
       "      <th>12</th>\n",
       "      <th>13</th>\n",
       "    </tr>\n",
       "  </thead>\n",
       "  <tbody>\n",
       "    <tr>\n",
       "      <th>0</th>\n",
       "      <td>63.0</td>\n",
       "      <td>1.0</td>\n",
       "      <td>1.0</td>\n",
       "      <td>145.0</td>\n",
       "      <td>233.0</td>\n",
       "      <td>1.0</td>\n",
       "      <td>2.0</td>\n",
       "      <td>150.0</td>\n",
       "      <td>0.0</td>\n",
       "      <td>2.3</td>\n",
       "      <td>3.0</td>\n",
       "      <td>0.0</td>\n",
       "      <td>6.0</td>\n",
       "      <td>0</td>\n",
       "    </tr>\n",
       "    <tr>\n",
       "      <th>1</th>\n",
       "      <td>67.0</td>\n",
       "      <td>1.0</td>\n",
       "      <td>4.0</td>\n",
       "      <td>160.0</td>\n",
       "      <td>286.0</td>\n",
       "      <td>0.0</td>\n",
       "      <td>2.0</td>\n",
       "      <td>108.0</td>\n",
       "      <td>1.0</td>\n",
       "      <td>1.5</td>\n",
       "      <td>2.0</td>\n",
       "      <td>3.0</td>\n",
       "      <td>3.0</td>\n",
       "      <td>2</td>\n",
       "    </tr>\n",
       "    <tr>\n",
       "      <th>2</th>\n",
       "      <td>67.0</td>\n",
       "      <td>1.0</td>\n",
       "      <td>4.0</td>\n",
       "      <td>120.0</td>\n",
       "      <td>229.0</td>\n",
       "      <td>0.0</td>\n",
       "      <td>2.0</td>\n",
       "      <td>129.0</td>\n",
       "      <td>1.0</td>\n",
       "      <td>2.6</td>\n",
       "      <td>2.0</td>\n",
       "      <td>2.0</td>\n",
       "      <td>7.0</td>\n",
       "      <td>1</td>\n",
       "    </tr>\n",
       "    <tr>\n",
       "      <th>3</th>\n",
       "      <td>37.0</td>\n",
       "      <td>1.0</td>\n",
       "      <td>3.0</td>\n",
       "      <td>130.0</td>\n",
       "      <td>250.0</td>\n",
       "      <td>0.0</td>\n",
       "      <td>0.0</td>\n",
       "      <td>187.0</td>\n",
       "      <td>0.0</td>\n",
       "      <td>3.5</td>\n",
       "      <td>3.0</td>\n",
       "      <td>0.0</td>\n",
       "      <td>3.0</td>\n",
       "      <td>0</td>\n",
       "    </tr>\n",
       "    <tr>\n",
       "      <th>4</th>\n",
       "      <td>41.0</td>\n",
       "      <td>0.0</td>\n",
       "      <td>2.0</td>\n",
       "      <td>130.0</td>\n",
       "      <td>204.0</td>\n",
       "      <td>0.0</td>\n",
       "      <td>2.0</td>\n",
       "      <td>172.0</td>\n",
       "      <td>0.0</td>\n",
       "      <td>1.4</td>\n",
       "      <td>1.0</td>\n",
       "      <td>0.0</td>\n",
       "      <td>3.0</td>\n",
       "      <td>0</td>\n",
       "    </tr>\n",
       "  </tbody>\n",
       "</table>\n",
       "</div>"
      ],
      "text/plain": [
       "     0    1    2      3      4    5    6      7    8    9    10   11   12  13\n",
       "0  63.0  1.0  1.0  145.0  233.0  1.0  2.0  150.0  0.0  2.3  3.0  0.0  6.0   0\n",
       "1  67.0  1.0  4.0  160.0  286.0  0.0  2.0  108.0  1.0  1.5  2.0  3.0  3.0   2\n",
       "2  67.0  1.0  4.0  120.0  229.0  0.0  2.0  129.0  1.0  2.6  2.0  2.0  7.0   1\n",
       "3  37.0  1.0  3.0  130.0  250.0  0.0  0.0  187.0  0.0  3.5  3.0  0.0  3.0   0\n",
       "4  41.0  0.0  2.0  130.0  204.0  0.0  2.0  172.0  0.0  1.4  1.0  0.0  3.0   0"
      ]
     },
     "metadata": {},
     "output_type": "display_data"
    }
   ],
   "source": [
    "df = pd.read_csv('https://archive.ics.uci.edu/ml/machine-learning-databases/heart-disease/processed.cleveland.data',header=None)\n",
    "\n",
    "display(df.head(5))\n",
    "#print the first 5 rows\n"
   ]
  },
  {
   "cell_type": "markdown",
   "id": "dab696f9",
   "metadata": {},
   "source": [
    "we can see that there is no columns names which is quite difficult to format or preprocessed the data. we can change the number into names from uci data set describetion"
   ]
  },
  {
   "cell_type": "markdown",
   "id": "4a6f8ad7",
   "metadata": {},
   "source": [
    "# Attribute Information:\n",
    "\n"
   ]
  },
  {
   "cell_type": "markdown",
   "id": "66d77c05",
   "metadata": {},
   "source": [
    "Only 14 attributes used:\n",
    "1.  (age)\n",
    "2.  (sex)\n",
    "3.  (cp) = chest pain\n",
    "4.  (trestbps) = resting blood pressure in mm Hg\n",
    "5.  (chol) = serum cholesterol in mg/dl\n",
    "6.  (fbs) = fasting blood sugar\n",
    "7.  (restecg) = resting electrocardographic result\n",
    "8.  (thalach) = maximum heart rate achieved\n",
    "9.  (exang) = excercise induce angina\n",
    "10. (oldpeak) = ST depression induced by excercise relative to rest\n",
    "11. (slope) = the slope of the peak excercise ST segment\n",
    "12. (ca) = number of major vessels (0-3) colored by fluoroscopy\n",
    "13. (thal) = this is the  short thalium heart scan\n"
   ]
  },
  {
   "cell_type": "markdown",
   "id": "64f0fb7d",
   "metadata": {},
   "source": [
    "**Target variable:**\n",
    "\n",
    "hd(the predicted attribute) = diagnosis of heart disease the predicted atrribute"
   ]
  },
  {
   "cell_type": "code",
   "execution_count": 5,
   "id": "f885403d",
   "metadata": {},
   "outputs": [
    {
     "data": {
      "text/html": [
       "<div>\n",
       "<style scoped>\n",
       "    .dataframe tbody tr th:only-of-type {\n",
       "        vertical-align: middle;\n",
       "    }\n",
       "\n",
       "    .dataframe tbody tr th {\n",
       "        vertical-align: top;\n",
       "    }\n",
       "\n",
       "    .dataframe thead th {\n",
       "        text-align: right;\n",
       "    }\n",
       "</style>\n",
       "<table border=\"1\" class=\"dataframe\">\n",
       "  <thead>\n",
       "    <tr style=\"text-align: right;\">\n",
       "      <th></th>\n",
       "      <th>age</th>\n",
       "      <th>sex</th>\n",
       "      <th>chest pain</th>\n",
       "      <th>resting blood pressure</th>\n",
       "      <th>serum cholesterol</th>\n",
       "      <th>fasting blood sugar</th>\n",
       "      <th>resting electrocardographic result</th>\n",
       "      <th>maximum heart rate</th>\n",
       "      <th>excercise induce angina</th>\n",
       "      <th>oldpeak</th>\n",
       "      <th>slope</th>\n",
       "      <th>number of major vessels</th>\n",
       "      <th>thal</th>\n",
       "      <th>hd</th>\n",
       "    </tr>\n",
       "  </thead>\n",
       "  <tbody>\n",
       "    <tr>\n",
       "      <th>0</th>\n",
       "      <td>63.0</td>\n",
       "      <td>1.0</td>\n",
       "      <td>1.0</td>\n",
       "      <td>145.0</td>\n",
       "      <td>233.0</td>\n",
       "      <td>1.0</td>\n",
       "      <td>2.0</td>\n",
       "      <td>150.0</td>\n",
       "      <td>0.0</td>\n",
       "      <td>2.3</td>\n",
       "      <td>3.0</td>\n",
       "      <td>0.0</td>\n",
       "      <td>6.0</td>\n",
       "      <td>0</td>\n",
       "    </tr>\n",
       "    <tr>\n",
       "      <th>1</th>\n",
       "      <td>67.0</td>\n",
       "      <td>1.0</td>\n",
       "      <td>4.0</td>\n",
       "      <td>160.0</td>\n",
       "      <td>286.0</td>\n",
       "      <td>0.0</td>\n",
       "      <td>2.0</td>\n",
       "      <td>108.0</td>\n",
       "      <td>1.0</td>\n",
       "      <td>1.5</td>\n",
       "      <td>2.0</td>\n",
       "      <td>3.0</td>\n",
       "      <td>3.0</td>\n",
       "      <td>2</td>\n",
       "    </tr>\n",
       "    <tr>\n",
       "      <th>2</th>\n",
       "      <td>67.0</td>\n",
       "      <td>1.0</td>\n",
       "      <td>4.0</td>\n",
       "      <td>120.0</td>\n",
       "      <td>229.0</td>\n",
       "      <td>0.0</td>\n",
       "      <td>2.0</td>\n",
       "      <td>129.0</td>\n",
       "      <td>1.0</td>\n",
       "      <td>2.6</td>\n",
       "      <td>2.0</td>\n",
       "      <td>2.0</td>\n",
       "      <td>7.0</td>\n",
       "      <td>1</td>\n",
       "    </tr>\n",
       "    <tr>\n",
       "      <th>3</th>\n",
       "      <td>37.0</td>\n",
       "      <td>1.0</td>\n",
       "      <td>3.0</td>\n",
       "      <td>130.0</td>\n",
       "      <td>250.0</td>\n",
       "      <td>0.0</td>\n",
       "      <td>0.0</td>\n",
       "      <td>187.0</td>\n",
       "      <td>0.0</td>\n",
       "      <td>3.5</td>\n",
       "      <td>3.0</td>\n",
       "      <td>0.0</td>\n",
       "      <td>3.0</td>\n",
       "      <td>0</td>\n",
       "    </tr>\n",
       "    <tr>\n",
       "      <th>4</th>\n",
       "      <td>41.0</td>\n",
       "      <td>0.0</td>\n",
       "      <td>2.0</td>\n",
       "      <td>130.0</td>\n",
       "      <td>204.0</td>\n",
       "      <td>0.0</td>\n",
       "      <td>2.0</td>\n",
       "      <td>172.0</td>\n",
       "      <td>0.0</td>\n",
       "      <td>1.4</td>\n",
       "      <td>1.0</td>\n",
       "      <td>0.0</td>\n",
       "      <td>3.0</td>\n",
       "      <td>0</td>\n",
       "    </tr>\n",
       "  </tbody>\n",
       "</table>\n",
       "</div>"
      ],
      "text/plain": [
       "    age  sex  chest pain  resting blood pressure  serum cholesterol  \\\n",
       "0  63.0  1.0         1.0                   145.0              233.0   \n",
       "1  67.0  1.0         4.0                   160.0              286.0   \n",
       "2  67.0  1.0         4.0                   120.0              229.0   \n",
       "3  37.0  1.0         3.0                   130.0              250.0   \n",
       "4  41.0  0.0         2.0                   130.0              204.0   \n",
       "\n",
       "   fasting blood sugar  resting electrocardographic result  \\\n",
       "0                  1.0                                 2.0   \n",
       "1                  0.0                                 2.0   \n",
       "2                  0.0                                 2.0   \n",
       "3                  0.0                                 0.0   \n",
       "4                  0.0                                 2.0   \n",
       "\n",
       "   maximum heart rate  excercise induce angina  oldpeak  slope  \\\n",
       "0               150.0                      0.0      2.3    3.0   \n",
       "1               108.0                      1.0      1.5    2.0   \n",
       "2               129.0                      1.0      2.6    2.0   \n",
       "3               187.0                      0.0      3.5    3.0   \n",
       "4               172.0                      0.0      1.4    1.0   \n",
       "\n",
       "  number of major vessels thal  hd  \n",
       "0                     0.0  6.0   0  \n",
       "1                     3.0  3.0   2  \n",
       "2                     2.0  7.0   1  \n",
       "3                     0.0  3.0   0  \n",
       "4                     0.0  3.0   0  "
      ]
     },
     "execution_count": 5,
     "metadata": {},
     "output_type": "execute_result"
    }
   ],
   "source": [
    "# changing the columns numbers into names\n",
    "df.columns = ['age','sex','chest pain','resting blood pressure','serum cholesterol','fasting blood sugar','resting electrocardographic result','maximum heart rate','excercise induce angina','oldpeak','slope','number of major vessels','thal','hd']\n",
    "df.head()"
   ]
  },
  {
   "cell_type": "markdown",
   "id": "4d6c2862",
   "metadata": {},
   "source": [
    "# Identifying missing data"
   ]
  },
  {
   "cell_type": "code",
   "execution_count": 6,
   "id": "59099f19",
   "metadata": {},
   "outputs": [
    {
     "data": {
      "text/plain": [
       "age                                   float64\n",
       "sex                                   float64\n",
       "chest pain                            float64\n",
       "resting blood pressure                float64\n",
       "serum cholesterol                     float64\n",
       "fasting blood sugar                   float64\n",
       "resting electrocardographic result    float64\n",
       "maximum heart rate                    float64\n",
       "excercise induce angina               float64\n",
       "oldpeak                               float64\n",
       "slope                                 float64\n",
       "number of major vessels                object\n",
       "thal                                   object\n",
       "hd                                      int64\n",
       "dtype: object"
      ]
     },
     "execution_count": 6,
     "metadata": {},
     "output_type": "execute_result"
    }
   ],
   "source": [
    "df.dtypes"
   ]
  },
  {
   "cell_type": "code",
   "execution_count": 7,
   "id": "70b0a641",
   "metadata": {},
   "outputs": [
    {
     "name": "stdout",
     "output_type": "stream",
     "text": [
      "<class 'pandas.core.frame.DataFrame'>\n",
      "RangeIndex: 303 entries, 0 to 302\n",
      "Data columns (total 14 columns):\n",
      " #   Column                              Non-Null Count  Dtype  \n",
      "---  ------                              --------------  -----  \n",
      " 0   age                                 303 non-null    float64\n",
      " 1   sex                                 303 non-null    float64\n",
      " 2   chest pain                          303 non-null    float64\n",
      " 3   resting blood pressure              303 non-null    float64\n",
      " 4   serum cholesterol                   303 non-null    float64\n",
      " 5   fasting blood sugar                 303 non-null    float64\n",
      " 6   resting electrocardographic result  303 non-null    float64\n",
      " 7   maximum heart rate                  303 non-null    float64\n",
      " 8   excercise induce angina             303 non-null    float64\n",
      " 9   oldpeak                             303 non-null    float64\n",
      " 10  slope                               303 non-null    float64\n",
      " 11  number of major vessels             303 non-null    object \n",
      " 12  thal                                303 non-null    object \n",
      " 13  hd                                  303 non-null    int64  \n",
      "dtypes: float64(11), int64(1), object(2)\n",
      "memory usage: 33.3+ KB\n"
     ]
    },
    {
     "data": {
      "text/plain": [
       "None"
      ]
     },
     "metadata": {},
     "output_type": "display_data"
    }
   ],
   "source": [
    "display(df.info())\n",
    "\n",
    "# checking for missing value and data type"
   ]
  },
  {
   "cell_type": "code",
   "execution_count": 8,
   "id": "1364642f",
   "metadata": {},
   "outputs": [
    {
     "data": {
      "text/plain": [
       "array(['0.0', '3.0', '2.0', '1.0', '?'], dtype=object)"
      ]
     },
     "execution_count": 8,
     "metadata": {},
     "output_type": "execute_result"
    }
   ],
   "source": [
    "df['number of major vessels'].unique()\n",
    "#print out unique value in the column number of major vessels"
   ]
  },
  {
   "cell_type": "markdown",
   "id": "e5ee5c87",
   "metadata": {},
   "source": [
    "we can see that, there is an missing data. the number represent the number of vessels and question mark represent the missing data"
   ]
  },
  {
   "cell_type": "code",
   "execution_count": 9,
   "id": "ca3167c3",
   "metadata": {},
   "outputs": [
    {
     "data": {
      "text/plain": [
       "array(['6.0', '3.0', '7.0', '?'], dtype=object)"
      ]
     },
     "execution_count": 9,
     "metadata": {},
     "output_type": "execute_result"
    }
   ],
   "source": [
    "df['thal'].unique()\n",
    "# #print out unique value in the column that sort form of  thalium heart scan"
   ]
  },
  {
   "cell_type": "markdown",
   "id": "500ea5b4",
   "metadata": {},
   "source": [
    "we can see that, there is an missing data. the number represent the different diagnoses from the thalium heart scan and question mark represent the missing values"
   ]
  },
  {
   "cell_type": "markdown",
   "id": "41f7751d",
   "metadata": {},
   "source": [
    "# Dealing with missing data"
   ]
  },
  {
   "cell_type": "markdown",
   "id": "d5b1e7c0",
   "metadata": {},
   "source": [
    "we can deal with these missing data by deleting these patients from training data set or inpute values for missing dataset"
   ]
  },
  {
   "cell_type": "code",
   "execution_count": 10,
   "id": "6250b851",
   "metadata": {},
   "outputs": [
    {
     "data": {
      "text/plain": [
       "6"
      ]
     },
     "execution_count": 10,
     "metadata": {},
     "output_type": "execute_result"
    }
   ],
   "source": [
    "#print the number of rows that contain missing values\n",
    "len(df.loc[(df['number of major vessels'] == '?')\n",
    "           |\n",
    "          (df['thal'] == '?')])"
   ]
  },
  {
   "cell_type": "markdown",
   "id": "14a5aa92",
   "metadata": {},
   "source": [
    "only  rows have missing values"
   ]
  },
  {
   "cell_type": "code",
   "execution_count": 11,
   "id": "31fa41b2",
   "metadata": {},
   "outputs": [
    {
     "data": {
      "text/html": [
       "<div>\n",
       "<style scoped>\n",
       "    .dataframe tbody tr th:only-of-type {\n",
       "        vertical-align: middle;\n",
       "    }\n",
       "\n",
       "    .dataframe tbody tr th {\n",
       "        vertical-align: top;\n",
       "    }\n",
       "\n",
       "    .dataframe thead th {\n",
       "        text-align: right;\n",
       "    }\n",
       "</style>\n",
       "<table border=\"1\" class=\"dataframe\">\n",
       "  <thead>\n",
       "    <tr style=\"text-align: right;\">\n",
       "      <th></th>\n",
       "      <th>age</th>\n",
       "      <th>sex</th>\n",
       "      <th>chest pain</th>\n",
       "      <th>resting blood pressure</th>\n",
       "      <th>serum cholesterol</th>\n",
       "      <th>fasting blood sugar</th>\n",
       "      <th>resting electrocardographic result</th>\n",
       "      <th>maximum heart rate</th>\n",
       "      <th>excercise induce angina</th>\n",
       "      <th>oldpeak</th>\n",
       "      <th>slope</th>\n",
       "      <th>number of major vessels</th>\n",
       "      <th>thal</th>\n",
       "      <th>hd</th>\n",
       "    </tr>\n",
       "  </thead>\n",
       "  <tbody>\n",
       "    <tr>\n",
       "      <th>87</th>\n",
       "      <td>53.0</td>\n",
       "      <td>0.0</td>\n",
       "      <td>3.0</td>\n",
       "      <td>128.0</td>\n",
       "      <td>216.0</td>\n",
       "      <td>0.0</td>\n",
       "      <td>2.0</td>\n",
       "      <td>115.0</td>\n",
       "      <td>0.0</td>\n",
       "      <td>0.0</td>\n",
       "      <td>1.0</td>\n",
       "      <td>0.0</td>\n",
       "      <td>?</td>\n",
       "      <td>0</td>\n",
       "    </tr>\n",
       "    <tr>\n",
       "      <th>166</th>\n",
       "      <td>52.0</td>\n",
       "      <td>1.0</td>\n",
       "      <td>3.0</td>\n",
       "      <td>138.0</td>\n",
       "      <td>223.0</td>\n",
       "      <td>0.0</td>\n",
       "      <td>0.0</td>\n",
       "      <td>169.0</td>\n",
       "      <td>0.0</td>\n",
       "      <td>0.0</td>\n",
       "      <td>1.0</td>\n",
       "      <td>?</td>\n",
       "      <td>3.0</td>\n",
       "      <td>0</td>\n",
       "    </tr>\n",
       "    <tr>\n",
       "      <th>192</th>\n",
       "      <td>43.0</td>\n",
       "      <td>1.0</td>\n",
       "      <td>4.0</td>\n",
       "      <td>132.0</td>\n",
       "      <td>247.0</td>\n",
       "      <td>1.0</td>\n",
       "      <td>2.0</td>\n",
       "      <td>143.0</td>\n",
       "      <td>1.0</td>\n",
       "      <td>0.1</td>\n",
       "      <td>2.0</td>\n",
       "      <td>?</td>\n",
       "      <td>7.0</td>\n",
       "      <td>1</td>\n",
       "    </tr>\n",
       "    <tr>\n",
       "      <th>266</th>\n",
       "      <td>52.0</td>\n",
       "      <td>1.0</td>\n",
       "      <td>4.0</td>\n",
       "      <td>128.0</td>\n",
       "      <td>204.0</td>\n",
       "      <td>1.0</td>\n",
       "      <td>0.0</td>\n",
       "      <td>156.0</td>\n",
       "      <td>1.0</td>\n",
       "      <td>1.0</td>\n",
       "      <td>2.0</td>\n",
       "      <td>0.0</td>\n",
       "      <td>?</td>\n",
       "      <td>2</td>\n",
       "    </tr>\n",
       "    <tr>\n",
       "      <th>287</th>\n",
       "      <td>58.0</td>\n",
       "      <td>1.0</td>\n",
       "      <td>2.0</td>\n",
       "      <td>125.0</td>\n",
       "      <td>220.0</td>\n",
       "      <td>0.0</td>\n",
       "      <td>0.0</td>\n",
       "      <td>144.0</td>\n",
       "      <td>0.0</td>\n",
       "      <td>0.4</td>\n",
       "      <td>2.0</td>\n",
       "      <td>?</td>\n",
       "      <td>7.0</td>\n",
       "      <td>0</td>\n",
       "    </tr>\n",
       "    <tr>\n",
       "      <th>302</th>\n",
       "      <td>38.0</td>\n",
       "      <td>1.0</td>\n",
       "      <td>3.0</td>\n",
       "      <td>138.0</td>\n",
       "      <td>175.0</td>\n",
       "      <td>0.0</td>\n",
       "      <td>0.0</td>\n",
       "      <td>173.0</td>\n",
       "      <td>0.0</td>\n",
       "      <td>0.0</td>\n",
       "      <td>1.0</td>\n",
       "      <td>?</td>\n",
       "      <td>3.0</td>\n",
       "      <td>0</td>\n",
       "    </tr>\n",
       "  </tbody>\n",
       "</table>\n",
       "</div>"
      ],
      "text/plain": [
       "      age  sex  chest pain  resting blood pressure  serum cholesterol  \\\n",
       "87   53.0  0.0         3.0                   128.0              216.0   \n",
       "166  52.0  1.0         3.0                   138.0              223.0   \n",
       "192  43.0  1.0         4.0                   132.0              247.0   \n",
       "266  52.0  1.0         4.0                   128.0              204.0   \n",
       "287  58.0  1.0         2.0                   125.0              220.0   \n",
       "302  38.0  1.0         3.0                   138.0              175.0   \n",
       "\n",
       "     fasting blood sugar  resting electrocardographic result  \\\n",
       "87                   0.0                                 2.0   \n",
       "166                  0.0                                 0.0   \n",
       "192                  1.0                                 2.0   \n",
       "266                  1.0                                 0.0   \n",
       "287                  0.0                                 0.0   \n",
       "302                  0.0                                 0.0   \n",
       "\n",
       "     maximum heart rate  excercise induce angina  oldpeak  slope  \\\n",
       "87                115.0                      0.0      0.0    1.0   \n",
       "166               169.0                      0.0      0.0    1.0   \n",
       "192               143.0                      1.0      0.1    2.0   \n",
       "266               156.0                      1.0      1.0    2.0   \n",
       "287               144.0                      0.0      0.4    2.0   \n",
       "302               173.0                      0.0      0.0    1.0   \n",
       "\n",
       "    number of major vessels thal  hd  \n",
       "87                      0.0    ?   0  \n",
       "166                       ?  3.0   0  \n",
       "192                       ?  7.0   1  \n",
       "266                     0.0    ?   2  \n",
       "287                       ?  7.0   0  \n",
       "302                       ?  3.0   0  "
      ]
     },
     "execution_count": 11,
     "metadata": {},
     "output_type": "execute_result"
    }
   ],
   "source": [
    "df.loc[(df['number of major vessels'] == '?')\n",
    "           |\n",
    "          (df['thal'] == '?')]"
   ]
  },
  {
   "cell_type": "code",
   "execution_count": 12,
   "id": "8908007f",
   "metadata": {},
   "outputs": [
    {
     "data": {
      "text/plain": [
       "303"
      ]
     },
     "execution_count": 12,
     "metadata": {},
     "output_type": "execute_result"
    }
   ],
   "source": [
    "len(df) # is for counting number of rows in the full dataset"
   ]
  },
  {
   "cell_type": "markdown",
   "id": "7f67e3cb",
   "metadata": {},
   "source": [
    "so there is total 303 rows ,we can delete this row that contain missing values from the full dataset"
   ]
  },
  {
   "cell_type": "code",
   "execution_count": 13,
   "id": "bf8f2dfc",
   "metadata": {},
   "outputs": [],
   "source": [
    "df_no_missing = df.loc[(df['number of major vessels'] != '?')\n",
    "           &\n",
    "          (df['thal'] != '?')]\n",
    "\n",
    "#deleting the rows that have question mark"
   ]
  },
  {
   "cell_type": "code",
   "execution_count": 14,
   "id": "ec5fef6c",
   "metadata": {},
   "outputs": [
    {
     "data": {
      "text/plain": [
       "297"
      ]
     },
     "execution_count": 14,
     "metadata": {},
     "output_type": "execute_result"
    }
   ],
   "source": [
    "len(df_no_missing)"
   ]
  },
  {
   "cell_type": "code",
   "execution_count": 15,
   "id": "811ee602",
   "metadata": {},
   "outputs": [
    {
     "data": {
      "text/plain": [
       "array(['6.0', '3.0', '7.0'], dtype=object)"
      ]
     },
     "execution_count": 15,
     "metadata": {},
     "output_type": "execute_result"
    }
   ],
   "source": [
    "df_no_missing['number of major vessels'].unique()\n",
    "df_no_missing['thal'].unique()"
   ]
  },
  {
   "cell_type": "markdown",
   "id": "31c16cba",
   "metadata": {},
   "source": [
    "now that two columns do not contain any missing values"
   ]
  },
  {
   "cell_type": "markdown",
   "id": "daa4661e",
   "metadata": {},
   "source": [
    "# One hot encoding "
   ]
  },
  {
   "cell_type": "code",
   "execution_count": 16,
   "id": "ea9c0159",
   "metadata": {},
   "outputs": [
    {
     "name": "stdout",
     "output_type": "stream",
     "text": [
      "(297, 13) (297, 1)\n"
     ]
    }
   ],
   "source": [
    "X = df_no_missing.drop('hd', axis=1)\n",
    "y = df_no_missing[['hd']]\n",
    "#X = train data which we will use to make classification and y = predict heart disease\n",
    "print(X.shape, y.shape)"
   ]
  },
  {
   "cell_type": "code",
   "execution_count": 17,
   "id": "21745a19",
   "metadata": {},
   "outputs": [
    {
     "data": {
      "text/plain": [
       "age                                   float64\n",
       "sex                                   float64\n",
       "chest pain                            float64\n",
       "resting blood pressure                float64\n",
       "serum cholesterol                     float64\n",
       "fasting blood sugar                   float64\n",
       "resting electrocardographic result    float64\n",
       "maximum heart rate                    float64\n",
       "excercise induce angina               float64\n",
       "oldpeak                               float64\n",
       "slope                                 float64\n",
       "number of major vessels                object\n",
       "thal                                   object\n",
       "dtype: object"
      ]
     },
     "execution_count": 17,
     "metadata": {},
     "output_type": "execute_result"
    }
   ],
   "source": [
    "X.dtypes\n"
   ]
  },
  {
   "cell_type": "markdown",
   "id": "c0fb416d",
   "metadata": {},
   "source": [
    "**there are 3 category (sex, fasting blood sugar, exercise induced angina containg  only 0's and 1s, no need to format them.\n",
    "we will apply one-hot encoding to multiple categories features (cp(chest pain), resting electrocardographic result, slope, thal)**"
   ]
  },
  {
   "cell_type": "code",
   "execution_count": 18,
   "id": "faa585e6",
   "metadata": {},
   "outputs": [
    {
     "data": {
      "text/html": [
       "<div>\n",
       "<style scoped>\n",
       "    .dataframe tbody tr th:only-of-type {\n",
       "        vertical-align: middle;\n",
       "    }\n",
       "\n",
       "    .dataframe tbody tr th {\n",
       "        vertical-align: top;\n",
       "    }\n",
       "\n",
       "    .dataframe thead th {\n",
       "        text-align: right;\n",
       "    }\n",
       "</style>\n",
       "<table border=\"1\" class=\"dataframe\">\n",
       "  <thead>\n",
       "    <tr style=\"text-align: right;\">\n",
       "      <th></th>\n",
       "      <th>age</th>\n",
       "      <th>sex</th>\n",
       "      <th>resting blood pressure</th>\n",
       "      <th>serum cholesterol</th>\n",
       "      <th>fasting blood sugar</th>\n",
       "      <th>resting electrocardographic result</th>\n",
       "      <th>maximum heart rate</th>\n",
       "      <th>excercise induce angina</th>\n",
       "      <th>oldpeak</th>\n",
       "      <th>slope</th>\n",
       "      <th>number of major vessels</th>\n",
       "      <th>thal</th>\n",
       "      <th>chest pain_1.0</th>\n",
       "      <th>chest pain_2.0</th>\n",
       "      <th>chest pain_3.0</th>\n",
       "      <th>chest pain_4.0</th>\n",
       "    </tr>\n",
       "  </thead>\n",
       "  <tbody>\n",
       "    <tr>\n",
       "      <th>0</th>\n",
       "      <td>63.0</td>\n",
       "      <td>1.0</td>\n",
       "      <td>145.0</td>\n",
       "      <td>233.0</td>\n",
       "      <td>1.0</td>\n",
       "      <td>2.0</td>\n",
       "      <td>150.0</td>\n",
       "      <td>0.0</td>\n",
       "      <td>2.3</td>\n",
       "      <td>3.0</td>\n",
       "      <td>0.0</td>\n",
       "      <td>6.0</td>\n",
       "      <td>1</td>\n",
       "      <td>0</td>\n",
       "      <td>0</td>\n",
       "      <td>0</td>\n",
       "    </tr>\n",
       "    <tr>\n",
       "      <th>1</th>\n",
       "      <td>67.0</td>\n",
       "      <td>1.0</td>\n",
       "      <td>160.0</td>\n",
       "      <td>286.0</td>\n",
       "      <td>0.0</td>\n",
       "      <td>2.0</td>\n",
       "      <td>108.0</td>\n",
       "      <td>1.0</td>\n",
       "      <td>1.5</td>\n",
       "      <td>2.0</td>\n",
       "      <td>3.0</td>\n",
       "      <td>3.0</td>\n",
       "      <td>0</td>\n",
       "      <td>0</td>\n",
       "      <td>0</td>\n",
       "      <td>1</td>\n",
       "    </tr>\n",
       "    <tr>\n",
       "      <th>2</th>\n",
       "      <td>67.0</td>\n",
       "      <td>1.0</td>\n",
       "      <td>120.0</td>\n",
       "      <td>229.0</td>\n",
       "      <td>0.0</td>\n",
       "      <td>2.0</td>\n",
       "      <td>129.0</td>\n",
       "      <td>1.0</td>\n",
       "      <td>2.6</td>\n",
       "      <td>2.0</td>\n",
       "      <td>2.0</td>\n",
       "      <td>7.0</td>\n",
       "      <td>0</td>\n",
       "      <td>0</td>\n",
       "      <td>0</td>\n",
       "      <td>1</td>\n",
       "    </tr>\n",
       "    <tr>\n",
       "      <th>3</th>\n",
       "      <td>37.0</td>\n",
       "      <td>1.0</td>\n",
       "      <td>130.0</td>\n",
       "      <td>250.0</td>\n",
       "      <td>0.0</td>\n",
       "      <td>0.0</td>\n",
       "      <td>187.0</td>\n",
       "      <td>0.0</td>\n",
       "      <td>3.5</td>\n",
       "      <td>3.0</td>\n",
       "      <td>0.0</td>\n",
       "      <td>3.0</td>\n",
       "      <td>0</td>\n",
       "      <td>0</td>\n",
       "      <td>1</td>\n",
       "      <td>0</td>\n",
       "    </tr>\n",
       "    <tr>\n",
       "      <th>4</th>\n",
       "      <td>41.0</td>\n",
       "      <td>0.0</td>\n",
       "      <td>130.0</td>\n",
       "      <td>204.0</td>\n",
       "      <td>0.0</td>\n",
       "      <td>2.0</td>\n",
       "      <td>172.0</td>\n",
       "      <td>0.0</td>\n",
       "      <td>1.4</td>\n",
       "      <td>1.0</td>\n",
       "      <td>0.0</td>\n",
       "      <td>3.0</td>\n",
       "      <td>0</td>\n",
       "      <td>1</td>\n",
       "      <td>0</td>\n",
       "      <td>0</td>\n",
       "    </tr>\n",
       "  </tbody>\n",
       "</table>\n",
       "</div>"
      ],
      "text/plain": [
       "    age  sex  resting blood pressure  serum cholesterol  fasting blood sugar  \\\n",
       "0  63.0  1.0                   145.0              233.0                  1.0   \n",
       "1  67.0  1.0                   160.0              286.0                  0.0   \n",
       "2  67.0  1.0                   120.0              229.0                  0.0   \n",
       "3  37.0  1.0                   130.0              250.0                  0.0   \n",
       "4  41.0  0.0                   130.0              204.0                  0.0   \n",
       "\n",
       "   resting electrocardographic result  maximum heart rate  \\\n",
       "0                                 2.0               150.0   \n",
       "1                                 2.0               108.0   \n",
       "2                                 2.0               129.0   \n",
       "3                                 0.0               187.0   \n",
       "4                                 2.0               172.0   \n",
       "\n",
       "   excercise induce angina  oldpeak  slope number of major vessels thal  \\\n",
       "0                      0.0      2.3    3.0                     0.0  6.0   \n",
       "1                      1.0      1.5    2.0                     3.0  3.0   \n",
       "2                      1.0      2.6    2.0                     2.0  7.0   \n",
       "3                      0.0      3.5    3.0                     0.0  3.0   \n",
       "4                      0.0      1.4    1.0                     0.0  3.0   \n",
       "\n",
       "   chest pain_1.0  chest pain_2.0  chest pain_3.0  chest pain_4.0  \n",
       "0               1               0               0               0  \n",
       "1               0               0               0               1  \n",
       "2               0               0               0               1  \n",
       "3               0               0               1               0  \n",
       "4               0               1               0               0  "
      ]
     },
     "execution_count": 18,
     "metadata": {},
     "output_type": "execute_result"
    }
   ],
   "source": [
    "pd.get_dummies(X, columns = ['chest pain']).head()"
   ]
  },
  {
   "cell_type": "code",
   "execution_count": 19,
   "id": "ef258752",
   "metadata": {},
   "outputs": [
    {
     "data": {
      "text/html": [
       "<div>\n",
       "<style scoped>\n",
       "    .dataframe tbody tr th:only-of-type {\n",
       "        vertical-align: middle;\n",
       "    }\n",
       "\n",
       "    .dataframe tbody tr th {\n",
       "        vertical-align: top;\n",
       "    }\n",
       "\n",
       "    .dataframe thead th {\n",
       "        text-align: right;\n",
       "    }\n",
       "</style>\n",
       "<table border=\"1\" class=\"dataframe\">\n",
       "  <thead>\n",
       "    <tr style=\"text-align: right;\">\n",
       "      <th></th>\n",
       "      <th>age</th>\n",
       "      <th>sex</th>\n",
       "      <th>resting blood pressure</th>\n",
       "      <th>serum cholesterol</th>\n",
       "      <th>fasting blood sugar</th>\n",
       "      <th>maximum heart rate</th>\n",
       "      <th>excercise induce angina</th>\n",
       "      <th>oldpeak</th>\n",
       "      <th>number of major vessels</th>\n",
       "      <th>chest pain_1.0</th>\n",
       "      <th>...</th>\n",
       "      <th>chest pain_4.0</th>\n",
       "      <th>resting electrocardographic result_0.0</th>\n",
       "      <th>resting electrocardographic result_1.0</th>\n",
       "      <th>resting electrocardographic result_2.0</th>\n",
       "      <th>slope_1.0</th>\n",
       "      <th>slope_2.0</th>\n",
       "      <th>slope_3.0</th>\n",
       "      <th>thal_3.0</th>\n",
       "      <th>thal_6.0</th>\n",
       "      <th>thal_7.0</th>\n",
       "    </tr>\n",
       "  </thead>\n",
       "  <tbody>\n",
       "    <tr>\n",
       "      <th>0</th>\n",
       "      <td>63.0</td>\n",
       "      <td>1.0</td>\n",
       "      <td>145.0</td>\n",
       "      <td>233.0</td>\n",
       "      <td>1.0</td>\n",
       "      <td>150.0</td>\n",
       "      <td>0.0</td>\n",
       "      <td>2.3</td>\n",
       "      <td>0.0</td>\n",
       "      <td>1</td>\n",
       "      <td>...</td>\n",
       "      <td>0</td>\n",
       "      <td>0</td>\n",
       "      <td>0</td>\n",
       "      <td>1</td>\n",
       "      <td>0</td>\n",
       "      <td>0</td>\n",
       "      <td>1</td>\n",
       "      <td>0</td>\n",
       "      <td>1</td>\n",
       "      <td>0</td>\n",
       "    </tr>\n",
       "    <tr>\n",
       "      <th>1</th>\n",
       "      <td>67.0</td>\n",
       "      <td>1.0</td>\n",
       "      <td>160.0</td>\n",
       "      <td>286.0</td>\n",
       "      <td>0.0</td>\n",
       "      <td>108.0</td>\n",
       "      <td>1.0</td>\n",
       "      <td>1.5</td>\n",
       "      <td>3.0</td>\n",
       "      <td>0</td>\n",
       "      <td>...</td>\n",
       "      <td>1</td>\n",
       "      <td>0</td>\n",
       "      <td>0</td>\n",
       "      <td>1</td>\n",
       "      <td>0</td>\n",
       "      <td>1</td>\n",
       "      <td>0</td>\n",
       "      <td>1</td>\n",
       "      <td>0</td>\n",
       "      <td>0</td>\n",
       "    </tr>\n",
       "    <tr>\n",
       "      <th>2</th>\n",
       "      <td>67.0</td>\n",
       "      <td>1.0</td>\n",
       "      <td>120.0</td>\n",
       "      <td>229.0</td>\n",
       "      <td>0.0</td>\n",
       "      <td>129.0</td>\n",
       "      <td>1.0</td>\n",
       "      <td>2.6</td>\n",
       "      <td>2.0</td>\n",
       "      <td>0</td>\n",
       "      <td>...</td>\n",
       "      <td>1</td>\n",
       "      <td>0</td>\n",
       "      <td>0</td>\n",
       "      <td>1</td>\n",
       "      <td>0</td>\n",
       "      <td>1</td>\n",
       "      <td>0</td>\n",
       "      <td>0</td>\n",
       "      <td>0</td>\n",
       "      <td>1</td>\n",
       "    </tr>\n",
       "    <tr>\n",
       "      <th>3</th>\n",
       "      <td>37.0</td>\n",
       "      <td>1.0</td>\n",
       "      <td>130.0</td>\n",
       "      <td>250.0</td>\n",
       "      <td>0.0</td>\n",
       "      <td>187.0</td>\n",
       "      <td>0.0</td>\n",
       "      <td>3.5</td>\n",
       "      <td>0.0</td>\n",
       "      <td>0</td>\n",
       "      <td>...</td>\n",
       "      <td>0</td>\n",
       "      <td>1</td>\n",
       "      <td>0</td>\n",
       "      <td>0</td>\n",
       "      <td>0</td>\n",
       "      <td>0</td>\n",
       "      <td>1</td>\n",
       "      <td>1</td>\n",
       "      <td>0</td>\n",
       "      <td>0</td>\n",
       "    </tr>\n",
       "    <tr>\n",
       "      <th>4</th>\n",
       "      <td>41.0</td>\n",
       "      <td>0.0</td>\n",
       "      <td>130.0</td>\n",
       "      <td>204.0</td>\n",
       "      <td>0.0</td>\n",
       "      <td>172.0</td>\n",
       "      <td>0.0</td>\n",
       "      <td>1.4</td>\n",
       "      <td>0.0</td>\n",
       "      <td>0</td>\n",
       "      <td>...</td>\n",
       "      <td>0</td>\n",
       "      <td>0</td>\n",
       "      <td>0</td>\n",
       "      <td>1</td>\n",
       "      <td>1</td>\n",
       "      <td>0</td>\n",
       "      <td>0</td>\n",
       "      <td>1</td>\n",
       "      <td>0</td>\n",
       "      <td>0</td>\n",
       "    </tr>\n",
       "  </tbody>\n",
       "</table>\n",
       "<p>5 rows × 22 columns</p>\n",
       "</div>"
      ],
      "text/plain": [
       "    age  sex  resting blood pressure  serum cholesterol  fasting blood sugar  \\\n",
       "0  63.0  1.0                   145.0              233.0                  1.0   \n",
       "1  67.0  1.0                   160.0              286.0                  0.0   \n",
       "2  67.0  1.0                   120.0              229.0                  0.0   \n",
       "3  37.0  1.0                   130.0              250.0                  0.0   \n",
       "4  41.0  0.0                   130.0              204.0                  0.0   \n",
       "\n",
       "   maximum heart rate  excercise induce angina  oldpeak  \\\n",
       "0               150.0                      0.0      2.3   \n",
       "1               108.0                      1.0      1.5   \n",
       "2               129.0                      1.0      2.6   \n",
       "3               187.0                      0.0      3.5   \n",
       "4               172.0                      0.0      1.4   \n",
       "\n",
       "  number of major vessels  chest pain_1.0  ...  chest pain_4.0  \\\n",
       "0                     0.0               1  ...               0   \n",
       "1                     3.0               0  ...               1   \n",
       "2                     2.0               0  ...               1   \n",
       "3                     0.0               0  ...               0   \n",
       "4                     0.0               0  ...               0   \n",
       "\n",
       "   resting electrocardographic result_0.0  \\\n",
       "0                                       0   \n",
       "1                                       0   \n",
       "2                                       0   \n",
       "3                                       1   \n",
       "4                                       0   \n",
       "\n",
       "   resting electrocardographic result_1.0  \\\n",
       "0                                       0   \n",
       "1                                       0   \n",
       "2                                       0   \n",
       "3                                       0   \n",
       "4                                       0   \n",
       "\n",
       "   resting electrocardographic result_2.0  slope_1.0  slope_2.0  slope_3.0  \\\n",
       "0                                       1          0          0          1   \n",
       "1                                       1          0          1          0   \n",
       "2                                       1          0          1          0   \n",
       "3                                       0          0          0          1   \n",
       "4                                       1          1          0          0   \n",
       "\n",
       "   thal_3.0  thal_6.0  thal_7.0  \n",
       "0         0         1         0  \n",
       "1         1         0         0  \n",
       "2         0         0         1  \n",
       "3         1         0         0  \n",
       "4         1         0         0  \n",
       "\n",
       "[5 rows x 22 columns]"
      ]
     },
     "execution_count": 19,
     "metadata": {},
     "output_type": "execute_result"
    }
   ],
   "source": [
    "X_encoded = pd.get_dummies(X, columns = ['chest pain',\n",
    "                                        'resting electrocardographic result',\n",
    "                                        'slope',\n",
    "                                        'thal'])\n",
    "X_encoded.head()"
   ]
  },
  {
   "cell_type": "markdown",
   "id": "6e711575",
   "metadata": {},
   "source": [
    "# Format target feature"
   ]
  },
  {
   "cell_type": "code",
   "execution_count": 20,
   "id": "6077c75c",
   "metadata": {},
   "outputs": [
    {
     "data": {
      "text/plain": [
       "array([0, 2, 1, 3, 4], dtype=int64)"
      ]
     },
     "execution_count": 20,
     "metadata": {},
     "output_type": "execute_result"
    }
   ],
   "source": [
    "y.hd.unique()"
   ]
  },
  {
   "cell_type": "markdown",
   "id": "538f0853",
   "metadata": {},
   "source": [
    "y doesn't just contain 0s and 1s . Instead, it has 5 different levels of heart diseases, 0 = no heart disease and 1-4 are various degrees of heart diseases,we can see that from y unique values.\n",
    "\n",
    "**But if we want to show someone has heart disease or not, so we need to convert all numbers > 0 to 1**"
   ]
  },
  {
   "cell_type": "code",
   "execution_count": 21,
   "id": "5a6aeccf",
   "metadata": {},
   "outputs": [
    {
     "data": {
      "text/plain": [
       "array([0, 1], dtype=int64)"
      ]
     },
     "execution_count": 21,
     "metadata": {},
     "output_type": "execute_result"
    }
   ],
   "source": [
    "y_not_zero_index = y > 0 # get the index for each non-zero value in y\n",
    "y[y_not_zero_index] = 1 #set each non-zero value in y to 1\n",
    "y.hd.unique()  # verify that y only contains 0 and 1"
   ]
  },
  {
   "cell_type": "markdown",
   "id": "6e47d0c8",
   "metadata": {},
   "source": [
    "# split the train and test data"
   ]
  },
  {
   "cell_type": "code",
   "execution_count": 22,
   "id": "d2cedd1f",
   "metadata": {},
   "outputs": [
    {
     "name": "stdout",
     "output_type": "stream",
     "text": [
      "(207, 22) (90, 22) (207, 1) (90, 1)\n"
     ]
    }
   ],
   "source": [
    "X_train, X_test, y_train, y_test = train_test_split(X_encoded, \n",
    "                                                    y, \n",
    "                                                    test_size=0.3, \n",
    "                                                    random_state=42, stratify=y)\n",
    "\n",
    "print(X_train.shape, X_test.shape, y_train.shape, y_test.shape)"
   ]
  },
  {
   "cell_type": "markdown",
   "id": "f554b1ea",
   "metadata": {},
   "source": [
    "# Decision Tree Classifier"
   ]
  },
  {
   "cell_type": "code",
   "execution_count": 23,
   "id": "ed38d46b",
   "metadata": {},
   "outputs": [],
   "source": [
    "model = DecisionTreeClassifier()\n",
    "model = model.fit(X_train, y_train)"
   ]
  },
  {
   "cell_type": "code",
   "execution_count": 29,
   "id": "a7eecd4b",
   "metadata": {},
   "outputs": [
    {
     "data": {
      "image/png": "[encoded data removed]",
      "text/plain": [
       "<Figure size 1440x1080 with 1 Axes>"
      ]
     },
     "metadata": {
      "needs_background": "light"
     },
     "output_type": "display_data"
    }
   ],
   "source": [
    "plt.figure(figsize = (20, 15))\n",
    "plot_tree(model, filled = True,\n",
    "          rounded = True,\n",
    "          class_names = ['No HD', 'Yes HD'],\n",
    "          feature_names = X_encoded.columns, max_depth=2,\n",
    "         fontsize=15);"
   ]
  },
  {
   "cell_type": "markdown",
   "id": "17f527e9",
   "metadata": {},
   "source": [
    "# Confusion Matrix"
   ]
  },
  {
   "cell_type": "code",
   "execution_count": 25,
   "id": "fff729d0",
   "metadata": {},
   "outputs": [
    {
     "data": {
      "image/png": "[encoded data removed]",
      "text/plain": [
       "<Figure size 432x288 with 2 Axes>"
      ]
     },
     "metadata": {
      "needs_background": "light"
     },
     "output_type": "display_data"
    }
   ],
   "source": [
    "plot_confusion_matrix(model, X_test, y_test['hd'], display_labels = ['Does not have HD','Has HD'])\n",
    "plt.show()"
   ]
  },
  {
   "cell_type": "markdown",
   "id": "d3214621",
   "metadata": {},
   "source": [
    "**In the confusion matrix, 39 + 9 = 48 people that did not have Heart Disease, 39 (81%) were correctly classified. 17 + 25 = 42 people that have Heart Disease, 25 (59.52%) were correctly classified.**"
   ]
  },
  {
   "cell_type": "markdown",
   "id": "4be32ccd",
   "metadata": {},
   "source": [
    "# Prediction"
   ]
  },
  {
   "cell_type": "code",
   "execution_count": 26,
   "id": "8f133eaa",
   "metadata": {},
   "outputs": [],
   "source": [
    "y_pred = model.predict(X_test)"
   ]
  },
  {
   "cell_type": "markdown",
   "id": "3f7951c6",
   "metadata": {},
   "source": [
    "# Classification Report"
   ]
  },
  {
   "cell_type": "code",
   "execution_count": 27,
   "id": "1d46441a",
   "metadata": {},
   "outputs": [
    {
     "name": "stdout",
     "output_type": "stream",
     "text": [
      "              precision    recall  f1-score   support\n",
      "\n",
      "           0       0.73      0.83      0.78        48\n",
      "           1       0.77      0.64      0.70        42\n",
      "\n",
      "    accuracy                           0.74        90\n",
      "   macro avg       0.75      0.74      0.74        90\n",
      "weighted avg       0.75      0.74      0.74        90\n",
      "\n"
     ]
    }
   ],
   "source": [
    "print(classification_report(y_test, y_pred))"
   ]
  },
  {
   "cell_type": "markdown",
   "id": "b5232c73",
   "metadata": {},
   "source": [
    "**REPORT:**\n",
    "\n",
    "1. model accuracy is 71% means that 29 of every 100 labels is incorrect, and 71 is correct for predicting Heart disease.\n",
    "Precision= Out of all the examples that predicted as positive, how many are really positive? here 74% means that model predicted as positive(has heart disease) (26 + 8 =34), but really positive (has heart disease) only 26 people.\n",
    "\n",
    "2. Recall/sensitivity = Out of all the positive examples, how many are predicted as positive? Here 60% means that all positive are (16 +26 = 42), but model predicted as positive only 26\n",
    "\n",
    "3. F1-score: The F1 score is a weighted harmonic mean of precision and recall such that the best score is 1.0 and the worst is 0.0.Accuracy is used when the True Positives and True negatives are more important while F1-score is used when the False Negatives and False Positives are crucial\n",
    "\n",
    "4. support: Support is the number of actual occurrences of the class in the specified dataset. Imbalanced support in the training data may indicate structural weaknesses in the reported scores of the classifier and could indicate the need for stratified sampling or rebalancing. Support doesn’t change between models but instead diagnoses the evaluation process.\n"
   ]
  },
  {
   "cell_type": "markdown",
   "id": "78beedae",
   "metadata": {},
   "source": [
    "# ROC: Receiver Operating Characterisitcs and AUC: Area Under the Curve"
   ]
  },
  {
   "cell_type": "markdown",
   "id": "14e57e0f",
   "metadata": {},
   "source": [
    "The Area Under the Curve (AUC) is the measure of the ability of a classifier to distinguish between classes and The higher the AUC, the better the performance of the model at distinguishing between the positive and negative classes."
   ]
  },
  {
   "cell_type": "code",
   "execution_count": 28,
   "id": "d9f9a4ba",
   "metadata": {},
   "outputs": [
    {
     "data": {
      "image/png": "[encoded data removed]",
      "text/plain": [
       "<Figure size 720x576 with 1 Axes>"
      ]
     },
     "metadata": {
      "needs_background": "light"
     },
     "output_type": "display_data"
    }
   ],
   "source": [
    "fpr, tpr, thr = roc_curve(y_test, model.predict_proba(X_test)[:,1])\n",
    "auc = roc_auc_score(y_test, y_pred)\n",
    "plt.figure(figsize=(10, 8))\n",
    "plt.plot(fpr, tpr, color='green', lw=2, label=\"Curve Area = %0.3f\" % auc)\n",
    "plt.plot([0, 1], [0, 1], color='blue', lw=2, linestyle='--')\n",
    "plt.xlabel('False Positive Rate (FPR)')\n",
    "plt.ylabel('True Positive Rate (TPR)')\n",
    "plt.title('ROC curve')\n",
    "plt.legend(loc=\"lower right\")\n",
    "plt.show()"
   ]
  },
  {
   "cell_type": "markdown",
   "id": "c92299ed",
   "metadata": {},
   "source": [
    "Here model AUC value is 0.7 that means the classifier is able to detect more numbers of True positives and True negatives than False negatives and False positives."
   ]
  },
  {
   "cell_type": "code",
   "execution_count": null,
   "id": "daf19056",
   "metadata": {},
   "outputs": [],
   "source": []
  }
 ],
 "metadata": {
  "kernelspec": {
   "display_name": "Python 3",
   "language": "python",
   "name": "python3"
  },
  "language_info": {
   "codemirror_mode": {
    "name": "ipython",
    "version": 3
   },
   "file_extension": ".py",
   "mimetype": "text/x-python",
   "name": "python",
   "nbconvert_exporter": "python",
   "pygments_lexer": "ipython3",
   "version": "3.8.8"
  }
 },
 "nbformat": 4,
 "nbformat_minor": 5
}
